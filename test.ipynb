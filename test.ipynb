{
 "cells": [
  {
   "cell_type": "markdown",
   "metadata": {},
   "source": [
    "### Import libraries"
   ]
  },
  {
   "cell_type": "code",
   "execution_count": 2,
   "metadata": {},
   "outputs": [],
   "source": [
    "import pandas as pd\n",
    "import openai\n",
    "import faiss\n",
    "import numpy as np"
   ]
  },
  {
   "cell_type": "markdown",
   "metadata": {},
   "source": [
    "### Load dataset"
   ]
  },
  {
   "cell_type": "code",
   "execution_count": 3,
   "metadata": {},
   "outputs": [
    {
     "data": {
      "text/html": [
       "<div>\n",
       "<style scoped>\n",
       "    .dataframe tbody tr th:only-of-type {\n",
       "        vertical-align: middle;\n",
       "    }\n",
       "\n",
       "    .dataframe tbody tr th {\n",
       "        vertical-align: top;\n",
       "    }\n",
       "\n",
       "    .dataframe thead th {\n",
       "        text-align: right;\n",
       "    }\n",
       "</style>\n",
       "<table border=\"1\" class=\"dataframe\">\n",
       "  <thead>\n",
       "    <tr style=\"text-align: right;\">\n",
       "      <th></th>\n",
       "      <th>url</th>\n",
       "      <th>text</th>\n",
       "    </tr>\n",
       "  </thead>\n",
       "  <tbody>\n",
       "    <tr>\n",
       "      <th>0</th>\n",
       "      <td>https://x.com/anothercohen/status/174527559909...</td>\n",
       "      <td>If you're questioning whether it's too early t...</td>\n",
       "    </tr>\n",
       "    <tr>\n",
       "      <th>1</th>\n",
       "      <td>https://x.com/diligentium/status/1744994086929...</td>\n",
       "      <td>Cool toy! 👍\\n\\nBut the R1 seems to rely on the...</td>\n",
       "    </tr>\n",
       "    <tr>\n",
       "      <th>2</th>\n",
       "      <td>https://x.com/naval/status/1002104154737684480...</td>\n",
       "      <td>Learn to sell. Learn to build. If you can do b...</td>\n",
       "    </tr>\n",
       "    <tr>\n",
       "      <th>3</th>\n",
       "      <td>https://x.com/jxmnop/status/173712987574646814...</td>\n",
       "      <td>Seen a lot of evidence that GPT-4 crushes Gemi...</td>\n",
       "    </tr>\n",
       "    <tr>\n",
       "      <th>4</th>\n",
       "      <td>https://x.com/historyinmemes/status/1736856310...</td>\n",
       "      <td>Kanye West on the phone with Taylor Swift befo...</td>\n",
       "    </tr>\n",
       "  </tbody>\n",
       "</table>\n",
       "</div>"
      ],
      "text/plain": [
       "                                                 url  \\\n",
       "0  https://x.com/anothercohen/status/174527559909...   \n",
       "1  https://x.com/diligentium/status/1744994086929...   \n",
       "2  https://x.com/naval/status/1002104154737684480...   \n",
       "3  https://x.com/jxmnop/status/173712987574646814...   \n",
       "4  https://x.com/historyinmemes/status/1736856310...   \n",
       "\n",
       "                                                text  \n",
       "0  If you're questioning whether it's too early t...  \n",
       "1  Cool toy! 👍\\n\\nBut the R1 seems to rely on the...  \n",
       "2  Learn to sell. Learn to build. If you can do b...  \n",
       "3  Seen a lot of evidence that GPT-4 crushes Gemi...  \n",
       "4  Kanye West on the phone with Taylor Swift befo...  "
      ]
     },
     "execution_count": 3,
     "metadata": {},
     "output_type": "execute_result"
    }
   ],
   "source": [
    "file_path = 'data/liked-tweets.csv'\n",
    "df = pd.read_csv(file_path)\n",
    "\n",
    "df.head()"
   ]
  },
  {
   "cell_type": "markdown",
   "metadata": {},
   "source": [
    "### Generate embeddings"
   ]
  },
  {
   "cell_type": "code",
   "execution_count": 4,
   "metadata": {},
   "outputs": [],
   "source": [
    "def get_embedding(text):\n",
    "    response = openai.Embedding.create(input=[text], engine=\"text-embedding-ada-002\")\n",
    "    return np.array(response['data'][0]['embedding'])\n"
   ]
  },
  {
   "cell_type": "code",
   "execution_count": 5,
   "metadata": {},
   "outputs": [],
   "source": [
    "# Generate embeddings for each tweet\n",
    "embeddings = np.array([get_embedding(tweet) for tweet in df['text']])  "
   ]
  },
  {
   "cell_type": "markdown",
   "metadata": {},
   "source": [
    "### Store embeddings in vector database"
   ]
  },
  {
   "cell_type": "code",
   "execution_count": 6,
   "metadata": {},
   "outputs": [],
   "source": [
    "dimension = embeddings.shape[1]  # Dimension of the embeddings\n",
    "index = faiss.IndexFlatL2(dimension)  # Using L2 distance for similarity\n",
    "index.add(embeddings.astype(np.float32))  # Ensure the data type is float32"
   ]
  },
  {
   "cell_type": "code",
   "execution_count": 7,
   "metadata": {},
   "outputs": [],
   "source": [
    "# Save the index\n",
    "faiss.write_index(index, \"test_embeddings.index\")"
   ]
  },
  {
   "cell_type": "markdown",
   "metadata": {},
   "source": [
    "### Search relevant tweets"
   ]
  },
  {
   "cell_type": "code",
   "execution_count": 8,
   "metadata": {},
   "outputs": [],
   "source": [
    "def search_tweets(query, k):\n",
    "    embedding = get_embedding(query)\n",
    "    distances, indices = index.search(np.array([embedding]).astype(np.float32), k)\n",
    "    return (df.iloc[indices[0]], distances[0]) # returns the dataframe and the distances"
   ]
  },
  {
   "cell_type": "code",
   "execution_count": 9,
   "metadata": {},
   "outputs": [
    {
     "name": "stdout",
     "output_type": "stream",
     "text": [
      "(                                                  url  \\\n",
      "23  https://x.com/natiakourdadze/status/1711776939...   \n",
      "2   https://x.com/naval/status/1002104154737684480...   \n",
      "25  https://x.com/thepatwalls/status/1713965959705...   \n",
      "22  https://x.com/nikitabier/status/17255418267681...   \n",
      "28  https://x.com/yongfook/status/1648466000147517...   \n",
      "\n",
      "                                                 text  \n",
      "23  How to find warm leads i.e. get customers easi...  \n",
      "2   Learn to sell. Learn to build. If you can do b...  \n",
      "25  5 years ago today, I quit my $125K/year softwa...  \n",
      "22  For every founder that successfully exits, the...  \n",
      "28  Feels like 90% of the indie hacker apps on my ...  , array([0.28786168, 0.4410772 , 0.4721748 , 0.48045477, 0.5005583 ],\n",
      "      dtype=float32))\n"
     ]
    }
   ],
   "source": [
    "relevant_tweets = search_tweets(\"How to find warm leads for my business?\", 5)\n",
    "print(relevant_tweets)"
   ]
  },
  {
   "cell_type": "code",
   "execution_count": 10,
   "metadata": {},
   "outputs": [
    {
     "name": "stdout",
     "output_type": "stream",
     "text": [
      "(                                                  url  \\\n",
      "4   https://x.com/historyinmemes/status/1736856310...   \n",
      "18  https://x.com/bgurley/status/17266307243533151...   \n",
      "20  https://x.com/VCBrags/status/17260640509271818...   \n",
      "28  https://x.com/yongfook/status/1648466000147517...   \n",
      "14  https://x.com/Jack_Raines/status/1729607931094...   \n",
      "\n",
      "                                                 text  \n",
      "4   Kanye West on the phone with Taylor Swift befo...  \n",
      "18  If you told me 10 years ago that a group of th...  \n",
      "20  The number one thing on every venture capitali...  \n",
      "28  Feels like 90% of the indie hacker apps on my ...  \n",
      "14  A few months ago, a Forbes reporter reached ou...  , array([0.30583128, 0.5034225 , 0.51719314, 0.5449016 , 0.5455991 ],\n",
      "      dtype=float32))\n"
     ]
    }
   ],
   "source": [
    "relevant_tweets = search_tweets(\"What are people saying about Kanye West or Taylor Swift?\", 5)\n",
    "print(relevant_tweets)"
   ]
  },
  {
   "cell_type": "code",
   "execution_count": 11,
   "metadata": {},
   "outputs": [
    {
     "name": "stdout",
     "output_type": "stream",
     "text": [
      "(                                                  url  \\\n",
      "20  https://x.com/VCBrags/status/17260640509271818...   \n",
      "26  https://x.com/holdenmatt/status/16904365380675...   \n",
      "19  https://x.com/thecaptain_nemo/status/172654458...   \n",
      "17  https://x.com/andykreed/status/172647134512558...   \n",
      "21  https://x.com/varun_mathur/status/172597141823...   \n",
      "\n",
      "                                                 text  \n",
      "20  The number one thing on every venture capitali...  \n",
      "26  OpenAI Functions is the coolest new tech I've ...  \n",
      "19  drop the \"OpenAI\". just \"Microsoft\", its cleaner.  \n",
      "17  Ex-Twitch CEO running OpenAI??? What’s he gonn...  \n",
      "21  Dear Mira and Ilya - congratulations on your c...  , array([0.29594553, 0.301573  , 0.3490528 , 0.35370684, 0.35620123],\n",
      "      dtype=float32))\n"
     ]
    }
   ],
   "source": [
    "relevant_tweets = search_tweets(\"What are people saying about OpenAI?\", 5)\n",
    "print(relevant_tweets)"
   ]
  },
  {
   "cell_type": "markdown",
   "metadata": {},
   "source": [
    "### Q&A + cite"
   ]
  },
  {
   "cell_type": "code",
   "execution_count": 12,
   "metadata": {},
   "outputs": [],
   "source": [
    "def qna(question, k=5):\n",
    "    # Search for relevant tweets\n",
    "    relevant_tweets = search_tweets(question, k)[0]\n",
    "\n",
    "    # Combine texts of relevant tweets\n",
    "    combined_tweets_text = \" \".join(relevant_tweets['text'])  \n",
    "\n",
    "    # Using chat model for OpenAI completion\n",
    "    response = openai.ChatCompletion.create(\n",
    "        model=\"gpt-4\",  \n",
    "        messages=[\n",
    "            {\"role\": \"system\", \"content\": \"You are a helpful assistant retrieving information from Tweets that the user saved.\"},\n",
    "            {\"role\": \"assistant\", \"content\": f\"Answer the question based on these tweets: {combined_tweets_text}. If there is not enough information, answer: 'Sorry, it seems like the Tweets do not provide enough information about this topic.' \\n\\nQuestion: {question}\\nAnswer:\"}\n",
    "        ]\n",
    "    )\n",
    "\n",
    "    answer = response.choices[0].message['content'] if response.choices else \"No response\"\n",
    "\n",
    "    # Check if the answer indicates sufficient relevant information\n",
    "    if 'Sorry, it seems like the Tweets do not provide enough information about this topic.'.lower() not in answer.lower():\n",
    "        # Add citation list at the end\n",
    "        citations = \"\\n\".join([f\"[{i+1}] {row['url']}\" for i, row in relevant_tweets.iterrows()])\n",
    "        answer += f\"\\n\\nCitations:\\n{citations}\"\n",
    "\n",
    "    return answer\n"
   ]
  },
  {
   "cell_type": "code",
   "execution_count": 13,
   "metadata": {},
   "outputs": [
    {
     "name": "stdout",
     "output_type": "stream",
     "text": [
      "Kanye West had a phone call with Taylor Swift before dropping \"Famous\".\n",
      "\n",
      "Citations:\n",
      "[5] https://x.com/historyinmemes/status/1736856310757384262?s=20\n",
      "[19] https://x.com/bgurley/status/1726630724353315139?s=20\n",
      "[21] https://x.com/VCBrags/status/1726064050927181835?s=20\n",
      "[18] https://x.com/andykreed/status/1726471345125589460?s=20\n",
      "[15] https://x.com/Jack_Raines/status/1729607931094569020?s=20\n"
     ]
    }
   ],
   "source": [
    "question = \"What are people saying about Kanye West and/or Taylor Swift?\"\n",
    "print(qna(question))"
   ]
  },
  {
   "cell_type": "code",
   "execution_count": 14,
   "metadata": {},
   "outputs": [
    {
     "name": "stdout",
     "output_type": "stream",
     "text": [
      "The tweets indicate a mix of opinions about OpenAI. Some people are fascinated by the new technology it provides, calling it 'the coolest new tech' they've played with. However, others are criticizing the management and the unit economics of the company, stating that those at the helm lack entrepreneurial experience and predicting a dire future for the company. There is also mention of the strained relationship between OpenAI and Microsoft, speculating that the latter must be upset over recent developments. The ex-Twitch CEO's role at OpenAI is also being questioned. Overall, while there seems to be appreciation for the organization's technical advancements, there is also skepticism and concerns regarding its financial stability, managerial competence and strategic partnerships.\n",
      "\n",
      "\n",
      "Citations:\n",
      "[21] https://x.com/VCBrags/status/1726064050927181835?s=20\n",
      "[27] https://x.com/holdenmatt/status/1690436538067570688?s=20\n",
      "[20] https://x.com/thecaptain_nemo/status/1726544586380824932?s=20\n",
      "[18] https://x.com/andykreed/status/1726471345125589460?s=20\n",
      "[22] https://x.com/varun_mathur/status/1725971418238849154?s=20\n"
     ]
    }
   ],
   "source": [
    "question = \"What are people saying about OpenAI?\"\n",
    "print(qna(question))"
   ]
  },
  {
   "cell_type": "code",
   "execution_count": 15,
   "metadata": {},
   "outputs": [
    {
     "name": "stdout",
     "output_type": "stream",
     "text": [
      "Sorry, it seems like the Tweets do not provide enough information about this topic.\n"
     ]
    }
   ],
   "source": [
    "question = \"What are people saying about the Super Bowl?\"\n",
    "print(qna(question))"
   ]
  },
  {
   "cell_type": "code",
   "execution_count": 16,
   "metadata": {},
   "outputs": [
    {
     "name": "stdout",
     "output_type": "stream",
     "text": [
      "The tweet about managing money advises ambitious individuals under 30 who earn more than their parents. It suggests that it's okay to move to a more expensive city and treat oneself. It also notes that as an ambitious person, your income is likely to increase each year and once you've saved more than $100k, your ability to save will increase rapidly due to compounding market growth. The tweet emphasizes the importance of focusing on things that can significantly improve your life quality, rather than small incremental changes. Lastly, it encourages thinking long-term about the future while still spending money to enjoy the present.\n",
      "\n",
      "Citations:\n",
      "[6] https://x.com/philip_ruffini/status/1736948535344435619?s=20\n",
      "[26] https://x.com/thepatwalls/status/1713965959705137629?s=20\n",
      "[28] https://x.com/Chrisjjosephs/status/1656764644416172032?s=20\n",
      "[12] https://x.com/blader/status/1681356168680321025?s=20\n",
      "[22] https://x.com/varun_mathur/status/1725971418238849154?s=20\n"
     ]
    }
   ],
   "source": [
    "question = \"What is the tweet about managing money?\"\n",
    "print(qna(question))"
   ]
  },
  {
   "cell_type": "code",
   "execution_count": 17,
   "metadata": {},
   "outputs": [
    {
     "name": "stdout",
     "output_type": "stream",
     "text": [
      "According to the tweets, the best opportunities for young ambitious individuals are to take calculated risks and invest in oneself, like moving to a more expensive city if it offers better opportunities or experiences. It's suggested that they learn skills that increase their value, such as learning how to sell, how to build, and how to use an LLM (presumably, a kind of productivity tool or software). Adopting a long-term view, e.g. thinking 10-20 years into the future, is also recommended. Another opportunity mentioned is starting their own business, implying that entrepreneurship can be a worthwhile venture for ambitious young individuals.\n",
      "\n",
      "Citations:\n",
      "[6] https://x.com/philip_ruffini/status/1736948535344435619?s=20\n",
      "[23] https://x.com/nikitabier/status/1725541826768130373?s=20\n",
      "[3] https://x.com/naval/status/1002104154737684480?s=20\n",
      "[26] https://x.com/thepatwalls/status/1713965959705137629?s=20\n",
      "[17] https://x.com/localghost/status/1728343665351729187?s=20\n"
     ]
    }
   ],
   "source": [
    "question = \"What are the best opportunities for young ambitious individuals?\"\n",
    "print(qna(question))"
   ]
  },
  {
   "cell_type": "markdown",
   "metadata": {},
   "source": [
    "### Clustering"
   ]
  },
  {
   "cell_type": "code",
   "execution_count": 39,
   "metadata": {},
   "outputs": [],
   "source": [
    "# Import libraries\n",
    "import numpy as np\n",
    "from sklearn.cluster import KMeans\n",
    "import pandas as pd"
   ]
  },
  {
   "cell_type": "code",
   "execution_count": 40,
   "metadata": {},
   "outputs": [],
   "source": [
    "# Define the k-means clustering function\n",
    "def generate_theme_clusters(num_clusters):\n",
    "    # Perform K-means clustering\n",
    "    kmeans = KMeans(n_clusters=num_clusters, random_state=0).fit(embeddings)\n",
    "\n",
    "    # Assign the cluster labels to the DataFrame\n",
    "    df['cluster'] = kmeans.labels_\n",
    "\n",
    "    # Optionally, return centroids or other information\n",
    "    return kmeans.cluster_centers_"
   ]
  },
  {
   "cell_type": "code",
   "execution_count": 41,
   "metadata": {},
   "outputs": [
    {
     "name": "stderr",
     "output_type": "stream",
     "text": [
      "/Users/pattssun/Library/CloudStorage/GoogleDrive-patricksun8530@gmail.com/My Drive/LAB/zettel/zettel-env/lib/python3.9/site-packages/sklearn/cluster/_kmeans.py:1416: FutureWarning: The default value of `n_init` will change from 10 to 'auto' in 1.4. Set the value of `n_init` explicitly to suppress the warning\n",
      "  super()._check_params_vs_input(X, default_n_init=10)\n"
     ]
    }
   ],
   "source": [
    "# Generate 5 clusters\n",
    "centers = generate_theme_clusters(5)  # Adjust the number of clusters as needed"
   ]
  },
  {
   "cell_type": "code",
   "execution_count": 57,
   "metadata": {},
   "outputs": [],
   "source": [
    "# Define Function to Generate Theme and Summary\n",
    "def get_cluster_theme_summary(cluster_tweets, engine=\"davinci\"):\n",
    "    # Combine tweet texts\n",
    "    combined_tweets = \" \".join(cluster_tweets)\n",
    "\n",
    "    response = openai.ChatCompletion.create(\n",
    "        model=\"gpt-4\",  \n",
    "        messages=[\n",
    "            {\"role\": \"system\", \"content\": \"You are a helpful assistant.\"},\n",
    "            {\"role\": \"assistant\", \"content\": f\"Generate a theme and a short summary (50 words max) for the following tweets: {combined_tweets}\"}\n",
    "        ]\n",
    "    )\n",
    "    \n",
    "    answer = response.choices[0].message['content'] if response.choices else \"No response\"\n",
    "\n",
    "    return answer"
   ]
  },
  {
   "cell_type": "code",
   "execution_count": 58,
   "metadata": {},
   "outputs": [
    {
     "name": "stdout",
     "output_type": "stream",
     "text": [
      "Cluster 1:\n",
      "Theme and Summary: Theme: Insights about Startups, Venture Capitalists, and Digital Marketing Strategies\n",
      "\n",
      "Summary: The series of tweets provide insights about misunderstandings regarding VC job titles, offers a practical guide on lead generation via Twitter automation, criticizes the lack of originality among independent app developers, and compares returns of VC-funded startups with freelancer earnings. The tweets emphasize the importance of understanding different aspects of the startup ecosystem.\n",
      "Similarity Score: 0.4496733374155669\n",
      "\n",
      "\n",
      "Cluster 2:\n",
      "Theme and Summary: Theme: Professional Growth and Financial Independence Journey\n",
      "\n",
      "Summary: The tweets document the author's personal journey of entrepreneurship. They share wisdom on achieving financial stability and the importance of long-term planning. The individual learnt to sell and build, got ahead financially by their 30s, identified meaningful lifestyle changes, and took career risks to pursue their dream of starting a business. They also touched on the thought processes and common paths of successful founders after an exit.\n",
      "Similarity Score: 0.44364877773784234\n",
      "\n",
      "\n",
      "Cluster 3:\n",
      "Theme and Summary: Theme: Business, Tech Industries and OpenAI\n",
      "Summary: These tweets discuss different aspects of the tech industry, specifically commenting on Boeing's faulty shipping, Adobe's hesitations to buy Figma, the uniqueness of Tesla's Cybertruck design, the speculation involved in OpenAI leadership and management, the impact of corporate reputation and venture capitalism, and a critique on the OV of OpenAI.\n",
      "Similarity Score: 0.46964727724915395\n",
      "\n",
      "\n",
      "Cluster 4:\n",
      "Theme and Summary: Theme: Controversial Discussions \n",
      "\n",
      "Summary: Kanye West having a contentious conversation with Taylor Swift regarding his song \"Famous\" prior to its release.\n",
      "Similarity Score: 1.8463616024007095e-17\n",
      "\n",
      "\n",
      "Cluster 5:\n",
      "Theme and Summary: Theme: Technology and Artificial Intelligence Developments\n",
      "\n",
      "Summary: The user shares insights into the complexities and developments of AI technologies; emphasizing the importance of user-friendly design, voicing setbacks in benchmark-based AI development, propelling open source AI democratization, exploring new tech interfaces, and the transformative impact of AI tools on productivity, communication, and software development. A notable highlight is ChatGPT being tested on trading with a real $50K.\n",
      "Similarity Score: 0.4623067899719854\n",
      "\n",
      "\n"
     ]
    }
   ],
   "source": [
    "# Process Each Cluster and Compute Similarity Score\n",
    "def compute_similarity_score(cluster_idx, kmeans, embeddings):\n",
    "    indices = np.where(kmeans.labels_ == cluster_idx)[0]\n",
    "    cluster_embeddings = embeddings[indices]\n",
    "    centroid = kmeans.cluster_centers_[cluster_idx]\n",
    "    distances = np.linalg.norm(cluster_embeddings - centroid, axis=1)\n",
    "    return np.mean(distances)\n",
    "\n",
    "for i in range(5):  # Adjust for the number of clusters\n",
    "    cluster_tweets = df[df['cluster'] == i]['text'].tolist() \n",
    "    theme_summary = get_cluster_theme_summary(cluster_tweets)\n",
    "    similarity_score = compute_similarity_score(i, kmeans, embeddings)\n",
    "    \n",
    "    print(f\"Cluster {i+1}:\")\n",
    "    print(\"Theme and Summary:\", theme_summary)\n",
    "    print(\"Similarity Score:\", similarity_score)\n",
    "    print(\"\\n\")"
   ]
  }
 ],
 "metadata": {
  "kernelspec": {
   "display_name": "zettel-env",
   "language": "python",
   "name": "python3"
  },
  "language_info": {
   "codemirror_mode": {
    "name": "ipython",
    "version": 3
   },
   "file_extension": ".py",
   "mimetype": "text/x-python",
   "name": "python",
   "nbconvert_exporter": "python",
   "pygments_lexer": "ipython3",
   "version": "3.9.7"
  }
 },
 "nbformat": 4,
 "nbformat_minor": 2
}
