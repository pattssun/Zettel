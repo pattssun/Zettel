{
 "cells": [
  {
   "cell_type": "markdown",
   "metadata": {},
   "source": [
    "### Import libraries"
   ]
  },
  {
   "cell_type": "code",
   "execution_count": 1,
   "metadata": {},
   "outputs": [],
   "source": [
    "import pandas as pd\n",
    "import numpy as np\n",
    "import openai\n",
    "import faiss"
   ]
  },
  {
   "cell_type": "markdown",
   "metadata": {},
   "source": [
    "### Load dataset"
   ]
  },
  {
   "cell_type": "code",
   "execution_count": 2,
   "metadata": {},
   "outputs": [
    {
     "data": {
      "text/html": [
       "<div>\n",
       "<style scoped>\n",
       "    .dataframe tbody tr th:only-of-type {\n",
       "        vertical-align: middle;\n",
       "    }\n",
       "\n",
       "    .dataframe tbody tr th {\n",
       "        vertical-align: top;\n",
       "    }\n",
       "\n",
       "    .dataframe thead th {\n",
       "        text-align: right;\n",
       "    }\n",
       "</style>\n",
       "<table border=\"1\" class=\"dataframe\">\n",
       "  <thead>\n",
       "    <tr style=\"text-align: right;\">\n",
       "      <th></th>\n",
       "      <th>url</th>\n",
       "      <th>text</th>\n",
       "    </tr>\n",
       "  </thead>\n",
       "  <tbody>\n",
       "    <tr>\n",
       "      <th>0</th>\n",
       "      <td>https://x.com/anothercohen/status/174527559909...</td>\n",
       "      <td>If you're questioning whether it's too early t...</td>\n",
       "    </tr>\n",
       "    <tr>\n",
       "      <th>1</th>\n",
       "      <td>https://x.com/diligentium/status/1744994086929...</td>\n",
       "      <td>Cool toy! 👍\\n\\nBut the R1 seems to rely on the...</td>\n",
       "    </tr>\n",
       "    <tr>\n",
       "      <th>2</th>\n",
       "      <td>https://x.com/naval/status/1002104154737684480...</td>\n",
       "      <td>Learn to sell. Learn to build. If you can do b...</td>\n",
       "    </tr>\n",
       "    <tr>\n",
       "      <th>3</th>\n",
       "      <td>https://x.com/jxmnop/status/173712987574646814...</td>\n",
       "      <td>Seen a lot of evidence that GPT-4 crushes Gemi...</td>\n",
       "    </tr>\n",
       "    <tr>\n",
       "      <th>4</th>\n",
       "      <td>https://x.com/historyinmemes/status/1736856310...</td>\n",
       "      <td>Kanye West on the phone with Taylor Swift befo...</td>\n",
       "    </tr>\n",
       "  </tbody>\n",
       "</table>\n",
       "</div>"
      ],
      "text/plain": [
       "                                                 url  \\\n",
       "0  https://x.com/anothercohen/status/174527559909...   \n",
       "1  https://x.com/diligentium/status/1744994086929...   \n",
       "2  https://x.com/naval/status/1002104154737684480...   \n",
       "3  https://x.com/jxmnop/status/173712987574646814...   \n",
       "4  https://x.com/historyinmemes/status/1736856310...   \n",
       "\n",
       "                                                text  \n",
       "0  If you're questioning whether it's too early t...  \n",
       "1  Cool toy! 👍\\n\\nBut the R1 seems to rely on the...  \n",
       "2  Learn to sell. Learn to build. If you can do b...  \n",
       "3  Seen a lot of evidence that GPT-4 crushes Gemi...  \n",
       "4  Kanye West on the phone with Taylor Swift befo...  "
      ]
     },
     "execution_count": 2,
     "metadata": {},
     "output_type": "execute_result"
    }
   ],
   "source": [
    "file_path = 'data/liked-tweets.csv'\n",
    "df = pd.read_csv(file_path)\n",
    "\n",
    "df.head()"
   ]
  },
  {
   "cell_type": "markdown",
   "metadata": {},
   "source": [
    "### Generate embeddings"
   ]
  },
  {
   "cell_type": "code",
   "execution_count": 3,
   "metadata": {},
   "outputs": [],
   "source": [
    "def get_embedding(text):\n",
    "    response = openai.Embedding.create(input=[text], engine=\"text-embedding-ada-002\")\n",
    "    return np.array(response['data'][0]['embedding'])\n"
   ]
  },
  {
   "cell_type": "code",
   "execution_count": 6,
   "metadata": {},
   "outputs": [],
   "source": [
    "# Generate embeddings for each tweet\n",
    "embeddings = np.array([get_embedding(tweet) for tweet in df['text']])  "
   ]
  },
  {
   "cell_type": "markdown",
   "metadata": {},
   "source": [
    "### Store embeddings in vector database"
   ]
  },
  {
   "cell_type": "code",
   "execution_count": 8,
   "metadata": {},
   "outputs": [],
   "source": [
    "dimension = embeddings.shape[1]  # Dimension of the embeddings\n",
    "index = faiss.IndexFlatL2(dimension)  # Using L2 distance for similarity\n",
    "index.add(embeddings.astype(np.float32))  # Ensure the data type is float32"
   ]
  },
  {
   "cell_type": "code",
   "execution_count": 9,
   "metadata": {},
   "outputs": [],
   "source": [
    "# Save the index\n",
    "faiss.write_index(index, \"data/liked-tweets-embeddings.index\")"
   ]
  },
  {
   "cell_type": "markdown",
   "metadata": {},
   "source": [
    "### Search relevant tweets"
   ]
  },
  {
   "cell_type": "code",
   "execution_count": 10,
   "metadata": {},
   "outputs": [],
   "source": [
    "def search_tweets(query, k):\n",
    "    embedding = get_embedding(query)\n",
    "    distances, indices = index.search(np.array([embedding]).astype(np.float32), k)\n",
    "    return (df.iloc[indices[0]], distances[0]) # returns the dataframe and the distances"
   ]
  },
  {
   "cell_type": "code",
   "execution_count": 11,
   "metadata": {},
   "outputs": [
    {
     "name": "stdout",
     "output_type": "stream",
     "text": [
      "(                                                  url  \\\n",
      "23  https://x.com/natiakourdadze/status/1711776939...   \n",
      "55  https://x.com/gregisenberg/status/173619402799...   \n",
      "57  https://x.com/gregisenberg/status/173475822893...   \n",
      "42  https://x.com/gregisenberg/status/174402039827...   \n",
      "45  https://x.com/gregisenberg/status/174231412994...   \n",
      "\n",
      "                                                 text  \n",
      "23  How to find warm leads i.e. get customers easi...  \n",
      "55  How to win on the internet:\\n\\n1. Marry the ni...  \n",
      "57  Lifehacks: \\n\\n1. Use social media apps on des...  \n",
      "42  Here are 50 realizations that changed my life ...  \n",
      "45  27 phrases to remember for 2024 if you’re an e...  , array([0.28786168, 0.39365435, 0.4061313 , 0.40622246, 0.40932983],\n",
      "      dtype=float32))\n"
     ]
    }
   ],
   "source": [
    "relevant_tweets = search_tweets(\"How to find warm leads for my business?\", 5)\n",
    "print(relevant_tweets)"
   ]
  },
  {
   "cell_type": "code",
   "execution_count": 35,
   "metadata": {},
   "outputs": [
    {
     "name": "stdout",
     "output_type": "stream",
     "text": [
      "(                                                  url  \\\n",
      "4   https://x.com/historyinmemes/status/1736856310...   \n",
      "53  https://x.com/gregisenberg/status/173711300761...   \n",
      "18  https://x.com/bgurley/status/17266307243533151...   \n",
      "33  https://x.com/gregisenberg/status/174698153268...   \n",
      "42  https://x.com/gregisenberg/status/174402039827...   \n",
      "\n",
      "                                                 text  \n",
      "4   Kanye West on the phone with Taylor Swift befo...  \n",
      "53  Adobe abandoning its $20b acquisition of Figma...  \n",
      "18  If you told me 10 years ago that a group of th...  \n",
      "33  Who lives in LA or SF?\\n\\nI'll be visiting soo...  \n",
      "42  Here are 50 realizations that changed my life ...  , array([0.30583128, 0.50176364, 0.5033319 , 0.50669837, 0.50982416],\n",
      "      dtype=float32))\n"
     ]
    }
   ],
   "source": [
    "relevant_tweets = search_tweets(\"What are people saying about Kanye West or Taylor Swift?\", 5)\n",
    "print(relevant_tweets)"
   ]
  },
  {
   "cell_type": "code",
   "execution_count": 36,
   "metadata": {},
   "outputs": [
    {
     "name": "stdout",
     "output_type": "stream",
     "text": [
      "(                                                  url  \\\n",
      "20  https://x.com/VCBrags/status/17260640509271818...   \n",
      "26  https://x.com/holdenmatt/status/16904365380675...   \n",
      "19  https://x.com/thecaptain_nemo/status/172654458...   \n",
      "17  https://x.com/andykreed/status/172647134512558...   \n",
      "21  https://x.com/varun_mathur/status/172597141823...   \n",
      "\n",
      "                                                 text  \n",
      "20  The number one thing on every venture capitali...  \n",
      "26  OpenAI Functions is the coolest new tech I've ...  \n",
      "19  drop the \"OpenAI\". just \"Microsoft\", its cleaner.  \n",
      "17  Ex-Twitch CEO running OpenAI??? What’s he gonn...  \n",
      "21  Dear Mira and Ilya - congratulations on your c...  , array([0.29594553, 0.301573  , 0.3490528 , 0.35370684, 0.35620123],\n",
      "      dtype=float32))\n"
     ]
    }
   ],
   "source": [
    "relevant_tweets = search_tweets(\"What are people saying about OpenAI?\", 5)\n",
    "print(relevant_tweets)"
   ]
  },
  {
   "cell_type": "code",
   "execution_count": 40,
   "metadata": {},
   "outputs": [
    {
     "name": "stdout",
     "output_type": "stream",
     "text": [
      "(                                                  url  \\\n",
      "56  https://x.com/gregisenberg/status/173605826090...   \n",
      "35  https://x.com/gregisenberg/status/174688448317...   \n",
      "57  https://x.com/gregisenberg/status/173475822893...   \n",
      "38  https://x.com/gregisenberg/status/174601498932...   \n",
      "42  https://x.com/gregisenberg/status/174402039827...   \n",
      "\n",
      "                                                 text  \n",
      "56  Someone will make $1B in the \"digital detox\" s...  \n",
      "35  I figured out a way to make me 2x more product...  \n",
      "57  Lifehacks: \\n\\n1. Use social media apps on des...  \n",
      "38  Idea of the day:\\n\\nAcquire a struggling cruis...  \n",
      "42  Here are 50 realizations that changed my life ...  , array([0.2945794 , 0.39345282, 0.43239492, 0.4785936 , 0.4874215 ],\n",
      "      dtype=float32))\n"
     ]
    }
   ],
   "source": [
    "relevant_tweets = search_tweets(\"What is the tweet about digital detox\", 5)\n",
    "print(relevant_tweets)"
   ]
  },
  {
   "cell_type": "markdown",
   "metadata": {},
   "source": [
    "### Q&A + cite"
   ]
  },
  {
   "cell_type": "code",
   "execution_count": 12,
   "metadata": {},
   "outputs": [],
   "source": [
    "def qna(question, k=5):\n",
    "    # Search for relevant tweets\n",
    "    relevant_tweets = search_tweets(question, k)[0]\n",
    "\n",
    "    # Combine texts of relevant tweets\n",
    "    combined_tweets_text = \" \".join(relevant_tweets['text'])  \n",
    "\n",
    "    # Using chat model for OpenAI completion\n",
    "    response = openai.ChatCompletion.create(\n",
    "        model=\"gpt-4\",  \n",
    "        messages=[\n",
    "            {\"role\": \"system\", \"content\": \"You are a helpful assistant helping the user leverage the information from the tweets they have saved.\"},\n",
    "            {\"role\": \"assistant\", \"content\": f\"Answer the question based on these tweets: {combined_tweets_text}. If there is not enough information, answer: 'Sorry, it seems like the Tweets do not provide enough information about this topic.' \\n\\nQuestion: {question}\\nAnswer:\"}\n",
    "        ]\n",
    "    )\n",
    "\n",
    "    answer = response.choices[0].message['content'] if response.choices else \"No response\"\n",
    "\n",
    "    # Check if the answer indicates sufficient relevant information\n",
    "    if 'Sorry, it seems like the Tweets do not provide enough information about this topic.'.lower() not in answer.lower():\n",
    "        # Add citation list at the end\n",
    "        citations = \"\\n\".join([f\"[{i+1}] {row['url']}\" for i, row in relevant_tweets.iterrows()])\n",
    "        answer += f\"\\n\\nCitations:\\n{citations}\"\n",
    "\n",
    "    return answer\n"
   ]
  },
  {
   "cell_type": "code",
   "execution_count": 13,
   "metadata": {},
   "outputs": [
    {
     "name": "stdout",
     "output_type": "stream",
     "text": [
      "Based on the insights gathered from the tweets, here is a potential 3-month plan for bootstrapping your startup:\n",
      "\n",
      "Month 1: Idea Generation and Market Research\n",
      "- Start by brainstorming your startup ideas. Remember, the best startup ideas are usually painfully obvious. Make sure the idea has a clear path to reach $10M+ per year.\n",
      "- Study the market niche, learn from the community. According to tweet insights, your startup idea will come to you. \n",
      "- Identify your potential paying customers and engage with them to discover their needs and pain-points. Remember, paying customers are the best VCs.\n",
      "\n",
      "Month 2: Building Prototype and Community Engagement\n",
      "- Once your idea is refined, start creating your MVP (Minimum Viable Product). Remember, 90% of MVPs can be created in 24 hours or less.\n",
      "- Begin building your community before building the product. Engage with people in your niche on social media, build a meme page if you have to, just understand them.\n",
      "- Focus on customers' fulfillment and growth. Make sure customers are getting an exceptional experience and try to attract and convert strangers into customers.\n",
      "\n",
      "Month 3: Testing, Refining, and Scaling\n",
      "- Test your MVP extensively and use feedback from your community to refine the product/service.\n",
      "- Once you've created a product that fulfills the needs of your customers and you have product/market fit, start thinking about scaling.\n",
      "- Begin creating a 3-4 channel growth plan for your startup. Make sure you have separate plans for scaling and diversification to prevent dependency on a single source of revenue.\n",
      "- Remember, cash flow is more important than valuation. Try to invest profits back into the business for growth and expansion.\n",
      "\n",
      "Throughout these months, remember some key insights: Being valuable to your customers' lives through content & community can boost your progress, owning your own audience is critical, and competitors can copy your products, but they can't copy your community because community is your edge and your marketing bank account.\n",
      "\n",
      "Citations:\n",
      "[44] https://x.com/gregisenberg/status/1743648532278501424?s=20\n",
      "[26] https://x.com/thepatwalls/status/1713965959705137629?s=20\n",
      "[43] https://x.com/gregisenberg/status/1744020398272913770?s=20\n",
      "[46] https://x.com/gregisenberg/status/1742314129946230946?s=20\n",
      "[55] https://x.com/gregisenberg/status/1736749531633422494?s=20\n"
     ]
    }
   ],
   "source": [
    "question = \"Come up with a plan about bootstrapping a startup in the next 3 months.\"\n",
    "print(qna(question))"
   ]
  },
  {
   "cell_type": "code",
   "execution_count": 86,
   "metadata": {},
   "outputs": [
    {
     "name": "stdout",
     "output_type": "stream",
     "text": [
      "The discussion about OpenAI is quite varied. There are a lot of people who think very highly of OpenAI's new technology, describing it as the \"coolest new tech\" they have used in a while and claiming that it has changed how they think about building software. The term \"linguistic computation\" is used in a positive manner here.\n",
      "\n",
      "On the other hand, there seems to be quite a bit of controversy and concern surrounding the management and business aspects of OpenAI. There's speculation that the company is facing significant challenges, including poor unit economics, the loss of key staff including top researchers and a foremost dealmaker, and potential clashes with partners like Microsoft. Commentators suggest that new leadership at OpenAI might lack the necessary business experience to successfully raise capital and support their team.\n",
      "\n",
      "There's anticipation of more difficulties ahead, with predictions that OpenAI may eventually be wholly acquired by Microsoft and its leaders relegated to less influential roles. There's mention of the possibility of a historical narrative where they could be forgotten, while other companies build out OpenAI alternatives.\n",
      "\n",
      "Citations:\n",
      "[21] https://x.com/VCBrags/status/1726064050927181835?s=20\n",
      "[27] https://x.com/holdenmatt/status/1690436538067570688?s=20\n",
      "[20] https://x.com/thecaptain_nemo/status/1726544586380824932?s=20\n",
      "[18] https://x.com/andykreed/status/1726471345125589460?s=20\n",
      "[22] https://x.com/varun_mathur/status/1725971418238849154?s=20\n"
     ]
    }
   ],
   "source": [
    "question = \"What are people saying about OpenAI?\"\n",
    "print(qna(question))"
   ]
  },
  {
   "cell_type": "code",
   "execution_count": 42,
   "metadata": {},
   "outputs": [
    {
     "name": "stdout",
     "output_type": "stream",
     "text": [
      "According to the tweets, there was a potential acquisition of Figma by Adobe that was valued at $20 billion. However, the deal fell through reportedly due to issues with a regulatory body in the UK. The process of Adobe deciding not to buy Figma allegedly took 15 months because of the time it took for them to open up Acrobat Reader to check out the contract. This situation has resulted in discussions about the challenges of being a VC-backed founder and the potential benefits of bootstrapping or raising capital and issuing dividends.\n",
      "\n",
      "Citations:\n",
      "[8] https://x.com/darylginn/status/1736756570414010398?s=20\n",
      "[54] https://x.com/gregisenberg/status/1737113007619264672?s=20\n",
      "[13] https://x.com/jsngr/status/1731393088013131944?s=20\n",
      "[42] https://x.com/gregisenberg/status/1744800699530039717?s=20\n",
      "[19] https://x.com/bgurley/status/1726630724353315139?s=20\n"
     ]
    }
   ],
   "source": [
    "# question = \"What are people saying about Figma and Adobe?\"\n",
    "# print(qna(question))"
   ]
  },
  {
   "cell_type": "code",
   "execution_count": 83,
   "metadata": {},
   "outputs": [
    {
     "name": "stdout",
     "output_type": "stream",
     "text": [
      "The user discussed their considerable losses during the year 2023 in one of the tweets. The user mentioned a few key failures such as:\n",
      "\n",
      "1. Listening to bad advice that recommended keeping the team lean with the anticipation of a looming recession, which resulted in considerable lost revenue (~$3M).\n",
      "   \n",
      "2. The focus on hiring mid-level employees instead of investing in hires that multiply the business.\n",
      "\n",
      "3. Not organizing enough 2-3 day IRL (In Real Life) masterminds, which are industry-specific brainstorming sessions.\n",
      "\n",
      "4. Not buying a company in 2023 despite initial attempts, which however eventually improved their process and thesis for M&A (Mergers and Acquisitions).\n",
      "\n",
      "Citations:\n",
      "[43] https://x.com/gregisenberg/status/1744020398272913770?s=20\n",
      "[44] https://x.com/gregisenberg/status/1743648532278501424?s=20\n",
      "[58] https://x.com/gregisenberg/status/1734758228930515272?s=20\n",
      "[37] https://x.com/gregisenberg/status/1746581102720893340?s=20\n",
      "[52] https://x.com/gregisenberg/status/1738261461783187914?s=20\n"
     ]
    }
   ],
   "source": [
    "# question = \"What was the tweet about someone's failures and learnings.\"\n",
    "# print(qna(question))"
   ]
  },
  {
   "cell_type": "code",
   "execution_count": 84,
   "metadata": {},
   "outputs": [
    {
     "name": "stdout",
     "output_type": "stream",
     "text": [
      "The tweet about IRL (in real life) events suggests that there might be a shift back towards people meeting in-person. It insinuates that there might be a growing trend towards people wanting to disconnect from digital spaces and return to real life interactions and experiences. The author predicts 2024 as the turning point for this shift and asserts that being more \"dopamine sober\" than \"dopamine drunk\" might become a modern day flex. The idea is that real life is becoming a place of escape from the internet.\n",
      "\n",
      "Citations:\n",
      "[18] https://x.com/andykreed/status/1726471345125589460?s=20\n",
      "[59] https://x.com/gregisenberg/status/1734921305969877258?s=20\n",
      "[43] https://x.com/gregisenberg/status/1744020398272913770?s=20\n",
      "[58] https://x.com/gregisenberg/status/1734758228930515272?s=20\n",
      "[57] https://x.com/gregisenberg/status/1736058260908572793?s=20\n"
     ]
    }
   ],
   "source": [
    "# question = \"What was the tweet about IRL events?\"\n",
    "# print(qna(question))"
   ]
  },
  {
   "cell_type": "code",
   "execution_count": 85,
   "metadata": {},
   "outputs": [
    {
     "name": "stdout",
     "output_type": "stream",
     "text": [
      "Some of the profitable trends and opportunities mentioned in the tweets are:\n",
      "\n",
      "1. Digital Detox: There's a growing trend of people seeking to disconnect from their digital devices, presenting a potential billion dollar opportunity in the digital detox space. The need to \"reset your mind and earn your freedom\" from digital addiction can be leveraged into profitable business ideas.\n",
      "\n",
      "2. Emerging Niche Communities: Finding an active community around a specific niche could present a business opportunity. Understanding the community and their preferences through content like memes can provide valuable insights for creating a product or service that would resonate with them.\n",
      "\n",
      "3. Content & Community: Adding value to people’s lives through content and community is highlighted as a strong trend. It could be in the form of good educational content or a supportive online community.\n",
      "\n",
      "4. Hiring Global Talent: Expanding the search for talent beyond traditional tech hubs like NYC or Silicon Valley can open up a wealth of diverse skills and perspectives. \n",
      "\n",
      "5. Low Status Opportunities: Looking for opportunities that are currently low in status but predicted to rise in popularity in a few years can be profitable.\n",
      "\n",
      "6. Internet-based businesses: These businesses are highlighted as having easier operation and better margins compared to traditional businesses like laundromats, self-storage, etc.\n",
      "\n",
      "7. Bootstrapped Businesses: Given the challenges faced by VC-backed startups, there's a rising trend of solopreneurship, multipreneurship and bootstrapped businesses. These enterprises afford their founders greater control and still have the potential to grow into a billion dollar businesses.\n",
      "\n",
      "8. Building an online audience: Even though it's deemed underpriced, having an internet audience is still considered a valuable asset.\n",
      "\n",
      "9. Businesses with high-profit margins: Creating businesses like SaaS, paid communities, etc., with 50+% margin is identified as a good opportunity.\n",
      "\n",
      "10. Internet as a salesperson: Utilizing content as a 24/7 salesperson seems to be a good trend to follow.\n",
      "\n",
      "Remember all these trends and strategies also require entrepreneurs to constantly add value, understand their community, create a strong narrative and maintain a solid relationship with their audience.\n",
      "\n",
      "Citations:\n",
      "[43] https://x.com/gregisenberg/status/1744020398272913770?s=20\n",
      "[46] https://x.com/gregisenberg/status/1742314129946230946?s=20\n",
      "[56] https://x.com/gregisenberg/status/1736194027991519496?s=20\n",
      "[54] https://x.com/gregisenberg/status/1737113007619264672?s=20\n",
      "[57] https://x.com/gregisenberg/status/1736058260908572793?s=20\n"
     ]
    }
   ],
   "source": [
    "# question = \"What are interesting and profitable trends and opportunities?\"\n",
    "# print(qna(question))"
   ]
  },
  {
   "cell_type": "code",
   "execution_count": 13,
   "metadata": {},
   "outputs": [
    {
     "name": "stdout",
     "output_type": "stream",
     "text": [
      "Kanye West is mentioned in the context of a tweet which recalls a situation where he was on the phone with Taylor Swift before releasing the song \"Famous\".\n",
      "\n",
      "Citations:\n",
      "[5] https://x.com/historyinmemes/status/1736856310757384262?s=20\n",
      "[19] https://x.com/bgurley/status/1726630724353315139?s=20\n",
      "[21] https://x.com/VCBrags/status/1726064050927181835?s=20\n",
      "[18] https://x.com/andykreed/status/1726471345125589460?s=20\n",
      "[15] https://x.com/Jack_Raines/status/1729607931094569020?s=20\n"
     ]
    }
   ],
   "source": [
    "# question = \"What are people saying about Kanye West and/or Taylor Swift?\"\n",
    "# print(qna(question))"
   ]
  },
  {
   "cell_type": "code",
   "execution_count": 15,
   "metadata": {},
   "outputs": [
    {
     "name": "stdout",
     "output_type": "stream",
     "text": [
      "Sorry, it seems like the Tweets do not provide enough information about this topic.\n"
     ]
    }
   ],
   "source": [
    "# question = \"What are people saying about the Super Bowl?\"\n",
    "# print(qna(question))"
   ]
  },
  {
   "cell_type": "code",
   "execution_count": 16,
   "metadata": {},
   "outputs": [
    {
     "name": "stdout",
     "output_type": "stream",
     "text": [
      "The tweet about managing money suggests that ambitious people under 30 who have a high income can afford to treat themselves, like moving to a pricier city. The tweet encourages them to save money and cultivate a nest egg of over $100k, which will compound in the market over time. It advises focusing on aspects of life that can greatly improve quality of life rather than just incremental changes, highlighting that if someone under 30 has $250k in liquid assets, they're far ahead of many people financially. It also encourages long-term planning and focusing on high ROI activities. The issue of living paycheck to paycheck is also addressed, mentioning that most traditional advice is geared toward this group rather than ambitious young entrepreneurs.\n",
      "\n",
      "Citations:\n",
      "[6] https://x.com/philip_ruffini/status/1736948535344435619?s=20\n",
      "[26] https://x.com/thepatwalls/status/1713965959705137629?s=20\n",
      "[28] https://x.com/Chrisjjosephs/status/1656764644416172032?s=20\n",
      "[12] https://x.com/blader/status/1681356168680321025?s=20\n",
      "[22] https://x.com/varun_mathur/status/1725971418238849154?s=20\n"
     ]
    }
   ],
   "source": [
    "# question = \"What is the tweet about managing money?\"\n",
    "# print(qna(question))"
   ]
  },
  {
   "cell_type": "code",
   "execution_count": 17,
   "metadata": {},
   "outputs": [
    {
     "name": "stdout",
     "output_type": "stream",
     "text": [
      "The best opportunities for young ambitious individuals, according to the tweets, seem to involve financial independence, following one's passion, and personal development. There's a mention of smart and ambitious individuals whose income tends to rise annually, and suggests moving to a more expensive city as a way of treating oneself when financially capable. It suggests building a decent savings balance and focusing on high ROI activities. Further, it encourages young people to think about their future but also enjoy their present. \n",
      "\n",
      "Another case presented is that of an individual who quit a highly paid job to start their own business, suggesting the pursuit of entrepreneurial dreams can be a rewarding opportunity. They believed in sacrificing comforts in pursuit of their ambitions. \n",
      "\n",
      "Additionally, the tweets emphasize learning and personal growth. For example, learning how to sell, build, and use an LLM properly can significantly boost one's productivity and learning speed. Thus, investing in improving unique skills and learning new ones can provide great opportunities.\n",
      "\n",
      "Citations:\n",
      "[6] https://x.com/philip_ruffini/status/1736948535344435619?s=20\n",
      "[23] https://x.com/nikitabier/status/1725541826768130373?s=20\n",
      "[3] https://x.com/naval/status/1002104154737684480?s=20\n",
      "[26] https://x.com/thepatwalls/status/1713965959705137629?s=20\n",
      "[17] https://x.com/localghost/status/1728343665351729187?s=20\n"
     ]
    }
   ],
   "source": [
    "# question = \"What are the best opportunities for young ambitious individuals?\"\n",
    "# print(qna(question))"
   ]
  },
  {
   "cell_type": "markdown",
   "metadata": {},
   "source": [
    "### Clustering"
   ]
  },
  {
   "cell_type": "code",
   "execution_count": 43,
   "metadata": {},
   "outputs": [],
   "source": [
    "# Cluster the Tweet Embeddings\n",
    "from sklearn.cluster import KMeans\n",
    "\n",
    "num_clusters = 5  # Adjust this based on your needs\n",
    "kmeans = KMeans(n_clusters=num_clusters, random_state=0).fit(embeddings)\n",
    "labels = kmeans.labels_"
   ]
  },
  {
   "cell_type": "code",
   "execution_count": 44,
   "metadata": {},
   "outputs": [],
   "source": [
    "# Extract Representative Tweets for Each Cluster\n",
    "def get_representative_tweets(embeddings, labels, num_representatives=3):\n",
    "    representative_tweets = {}\n",
    "    for i in range(num_clusters):\n",
    "        # Get indices of tweets in this cluster\n",
    "        indices = np.where(labels == i)[0]\n",
    "        # Calculate distances from the centroid\n",
    "        distances = np.linalg.norm(embeddings[indices] - kmeans.cluster_centers_[i], axis=1)\n",
    "        # Get indices of closest tweets\n",
    "        closest_indices = np.argsort(distances)[:num_representatives]\n",
    "        representative_tweets[i] = closest_indices\n",
    "    return representative_tweets\n",
    "\n",
    "representatives = get_representative_tweets(embeddings, labels)"
   ]
  },
  {
   "cell_type": "code",
   "execution_count": 79,
   "metadata": {},
   "outputs": [],
   "source": [
    "# Generate Themes Using GPT-4\n",
    "def generate_theme(cluster_tweets):\n",
    "    # Using chat model for OpenAI completion\n",
    "    response = openai.ChatCompletion.create(\n",
    "        model=\"gpt-4\",  \n",
    "        messages=[\n",
    "            {\"role\": \"system\", \"content\": \"You are a helpful assistant.\"},\n",
    "            {\"role\": \"assistant\", \"content\": f\"Generate a short theme (under 5 words) to categorize the following cluster of tweets: {cluster_tweets}. Only output the theme without any unecessary punctuation.\"}\n",
    "        ]\n",
    "    )\n",
    "    answer = response.choices[0].message['content'] if response.choices else \"No response\"\n",
    "    return answer\n",
    "\n",
    "cluster_themes = {}\n",
    "for cluster_id, tweet_indices in representatives.items():\n",
    "    cluster_tweets = \" \".join([df.iloc[idx]['text'] for idx in tweet_indices])  \n",
    "    cluster_themes[cluster_id] = generate_theme(cluster_tweets)"
   ]
  },
  {
   "cell_type": "code",
   "execution_count": 63,
   "metadata": {},
   "outputs": [],
   "source": [
    "# Compute Similarity Scores\n",
    "def compute_similarity_score(cluster_id, embeddings, labels, centroid):\n",
    "    indices = np.where(labels == cluster_id)[0]\n",
    "    cluster_embeddings = embeddings[indices]\n",
    "    distances = np.linalg.norm(cluster_embeddings - centroid, axis=1)\n",
    "    return np.mean(distances)\n",
    "\n",
    "similarity_scores = {}\n",
    "for i in range(num_clusters):\n",
    "    similarity_scores[i] = compute_similarity_score(i, embeddings, labels, kmeans.cluster_centers_[i])"
   ]
  },
  {
   "cell_type": "code",
   "execution_count": 80,
   "metadata": {},
   "outputs": [
    {
     "name": "stdout",
     "output_type": "stream",
     "text": [
      "Cluster 1:\n",
      "Theme: Product Usability and Consumer Experience\n",
      "Similarity Score: 0.3559176395135934\n",
      "\n",
      "\n",
      "Cluster 2:\n",
      "Theme: Satire, Tech Critiques, and Strategic Advice\n",
      "Similarity Score: 0.47518888317681746\n",
      "\n",
      "\n",
      "Cluster 3:\n",
      "Theme: Financial Growth and Personal Enjoyment\n",
      "Similarity Score: 0.4372318076566746\n",
      "\n",
      "\n",
      "Cluster 4:\n",
      "Theme: Venture Capital and AI Development Insights\n",
      "Similarity Score: 0.4439067139237174\n",
      "\n",
      "\n",
      "Cluster 5:\n",
      "Theme: AI Development and User Experience\n",
      "Similarity Score: 0.4637020860805901\n",
      "\n",
      "\n"
     ]
    }
   ],
   "source": [
    "# Compile the Results\n",
    "for i in range(num_clusters):\n",
    "    print(f\"Cluster {i+1}:\")\n",
    "    print(\"Theme:\", cluster_themes[i])\n",
    "    print(\"Similarity Score:\", similarity_scores[i])\n",
    "    print(\"\\n\")"
   ]
  }
 ],
 "metadata": {
  "kernelspec": {
   "display_name": "zettel-env",
   "language": "python",
   "name": "python3"
  },
  "language_info": {
   "codemirror_mode": {
    "name": "ipython",
    "version": 3
   },
   "file_extension": ".py",
   "mimetype": "text/x-python",
   "name": "python",
   "nbconvert_exporter": "python",
   "pygments_lexer": "ipython3",
   "version": "3.9.7"
  }
 },
 "nbformat": 4,
 "nbformat_minor": 2
}
